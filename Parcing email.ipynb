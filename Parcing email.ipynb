{
 "cells": [
  {
   "cell_type": "markdown",
   "id": "3a9b710b-777a-445e-bfe1-c78c7818bc88",
   "metadata": {},
   "source": [
    "## Import libraries"
   ]
  },
  {
   "cell_type": "code",
   "execution_count": 13,
   "id": "aa117742-a7ac-4d89-8f8e-48c6cb64c0ed",
   "metadata": {},
   "outputs": [],
   "source": [
    "import pandas as pd\n",
    "import imaplib\n",
    "import email\n",
    "from email.header import decode_header\n",
    "import re\n",
    "from collections import Counter\n",
    "from datetime import datetime"
   ]
  },
  {
   "cell_type": "markdown",
   "id": "0d6f69bf-92a5-4cd4-9424-c4a80647485b",
   "metadata": {},
   "source": [
    "## Server imap data"
   ]
  },
  {
   "cell_type": "code",
   "execution_count": 8,
   "id": "289d9845-fbdf-4593-98e9-cb1c8bf5c98e",
   "metadata": {},
   "outputs": [],
   "source": [
    "IMAP_SERVER = 'imap.yandex.ru'    # imap.mail.ru for mail\n",
    "EMAIL_ACCOUNT = 'dmitry.konshin@lamoda.ru'\n",
    "PASSWORD = 'solsvcfuyqxmqigb'"
   ]
  },
  {
   "cell_type": "markdown",
   "id": "edc0f937-2940-4e4a-810a-9687c3728656",
   "metadata": {},
   "source": [
    "## Connect to mail"
   ]
  },
  {
   "cell_type": "code",
   "execution_count": 9,
   "id": "ed200f86-7750-461e-aefd-82c944d5369a",
   "metadata": {},
   "outputs": [],
   "source": [
    "# connect\n",
    "mail = imaplib.IMAP4_SSL(IMAP_SERVER)"
   ]
  },
  {
   "cell_type": "code",
   "execution_count": 10,
   "id": "c3da0f9d-0cca-4d9d-9c64-5f73116b1f05",
   "metadata": {},
   "outputs": [
    {
     "data": {
      "text/plain": [
       "('OK', [b'LOGIN Completed.'])"
      ]
     },
     "execution_count": 10,
     "metadata": {},
     "output_type": "execute_result"
    }
   ],
   "source": [
    "# login\n",
    "mail.login(EMAIL_ACCOUNT, PASSWORD)"
   ]
  },
  {
   "cell_type": "code",
   "execution_count": 13,
   "id": "1e408b13-09ad-460d-9db6-764d32953e51",
   "metadata": {},
   "outputs": [
    {
     "data": {
      "text/plain": [
       "('OK', [b'3016'])"
      ]
     },
     "execution_count": 13,
     "metadata": {},
     "output_type": "execute_result"
    }
   ],
   "source": [
    "# select inbox\n",
    "mail.select('inbox')"
   ]
  },
  {
   "cell_type": "code",
   "execution_count": null,
   "id": "63fd923f-5253-447f-9d57-7c6252fef53f",
   "metadata": {},
   "outputs": [],
   "source": [
    "mail.logout()"
   ]
  },
  {
   "cell_type": "markdown",
   "id": "26deeb86-c34f-4426-88d0-defd598f2858",
   "metadata": {},
   "source": [
    "## Get numbor of inbox messages"
   ]
  },
  {
   "cell_type": "code",
   "execution_count": 35,
   "id": "9ec30d16-2651-4413-a784-136870ae943b",
   "metadata": {},
   "outputs": [
    {
     "name": "stdout",
     "output_type": "stream",
     "text": [
      "Number of inbox letters: 3016\n"
     ]
    },
    {
     "data": {
      "text/plain": [
       "('BYE', [b'IMAP4rev1 Server logging out'])"
      ]
     },
     "execution_count": 35,
     "metadata": {},
     "output_type": "execute_result"
    }
   ],
   "source": [
    "IMAP_SERVER = 'imap.yandex.ru'    # imap.mail.ru for mail\n",
    "EMAIL_ACCOUNT = 'dmitry.konshin@lamoda.ru'\n",
    "PASSWORD = 'solsvcfuyqxmqigb'\n",
    "\n",
    "mail = imaplib.IMAP4_SSL(IMAP_SERVER)\n",
    "mail.login(EMAIL_ACCOUNT, PASSWORD)\n",
    "mail.select('inbox')\n",
    "\n",
    "# Get number of letters\n",
    "status, response = mail.search(None, 'ALL')    # 'UNSEEN', 'SEEN'\n",
    "if status == 'OK':\n",
    "    email_ids = response[0].split()\n",
    "    num_emails = len(email_ids)\n",
    "    print(f'Number of inbox letters: {num_emails}')\n",
    "\n",
    "mail.logout()"
   ]
  },
  {
   "cell_type": "markdown",
   "id": "eda43c09-ea3b-4679-8fa3-1da08c76db34",
   "metadata": {},
   "source": [
    "## Get sender and subject of last 10 messages"
   ]
  },
  {
   "cell_type": "code",
   "execution_count": 21,
   "id": "ea1040ca-d396-4790-9c88-bae23b840df1",
   "metadata": {},
   "outputs": [
    {
     "name": "stdout",
     "output_type": "stream",
     "text": [
      "From: ic@lamoda.ru\n",
      "Subject: Переход на новую систему оформления командировок КМР.Travel\n",
      "--------------------------------------------------\n",
      "From: viktoriya.barhatova@lamoda.ru\n",
      "Subject: CALL SHEET 17/02 LAMODA ММ СТ М 11-14\n",
      "--------------------------------------------------\n",
      "From: pavel.ponomarenko@lamoda.ru\n",
      "Subject: LAMODA CALLSHEET 17/02 СММ ВИДЕО Б ФЕВ\n",
      "--------------------------------------------------\n",
      "From: mariya.baranova@lamoda.ru\n",
      "Subject: Re: CALL SHEET 14/02 ЭФИР LAMODA SPORT 25/02 ТЕСТ\n",
      "--------------------------------------------------\n",
      "From: info@calendar.yandex.ru\n",
      "Subject: СММ ВИДЕО Б ФЕВ ПАША\n",
      "--------------------------------------------------\n",
      "From: varvaraandreeva@lamoda.ru\n",
      "Subject: CALL SHEET 17/02 FOUNDS \n",
      "--------------------------------------------------\n",
      "From: aleksandra.kazakova@lamoda.ru\n",
      "Subject: Re: CALL SHEET 14/02 ЭФИР LAMODA SPORT 25/02 ТЕСТ\n",
      "--------------------------------------------------\n",
      "From: ic@lamoda.ru\n",
      "Subject: КЭДО VK: что важно сделать до 17 февраля\n",
      "--------------------------------------------------\n",
      "From: info@calendar.yandex.ru\n",
      "Subject: СММ ВИДЕО Б ФЕВ ПАША\n",
      "--------------------------------------------------\n"
     ]
    }
   ],
   "source": [
    "mail.select('inbox')\n",
    "\n",
    "status, response = mail.search(None, 'ALL')\n",
    "if status == 'OK':\n",
    "    email_ids = response[0].split()\n",
    "    for email_id in email_ids[:-10:-1]:\n",
    "        status, msg_data = mail.fetch(email_id, '(BODY[HEADER.FIELDS (FROM SUBJECT)])')\n",
    "        \n",
    "        if status == 'OK':\n",
    "            for response_part in msg_data:\n",
    "                if isinstance(response_part, tuple):\n",
    "                    msg = email.message_from_bytes(response_part[1])\n",
    "\n",
    "                    from_ = msg.get('From')\n",
    "                    subject = msg.get('Subject')\n",
    "\n",
    "                    \n",
    "                    # extract sender\n",
    "                    email_address = re.search(r'<(.+?)>', from_)\n",
    "                    if email_address:\n",
    "                        from_ = email_address.group(1) \n",
    "\n",
    "                    #decode \n",
    "                    from_ = decode_header(from_)[0][0]\n",
    "                    subject = decode_header(subject)[0][0]\n",
    "\n",
    "                    \n",
    "                    # convert to string\n",
    "                    if isinstance(from_, bytes):\n",
    "                        from_ = from_.decode()\n",
    "                    if isinstance(subject, bytes):\n",
    "                        subject = subject.decode()\n",
    "\n",
    "                    print(f'From: {from_}')\n",
    "                    print(f'Subject: {subject}')\n",
    "                    print('-' * 50)"
   ]
  },
  {
   "cell_type": "markdown",
   "id": "e27518d8-0cd4-4bdf-ac19-fcdf28d981f3",
   "metadata": {},
   "source": [
    "### Get the most frequently encountered authors"
   ]
  },
  {
   "cell_type": "code",
   "execution_count": 34,
   "id": "5991f86a-fa46-4537-bec9-3f5d48ee9cf9",
   "metadata": {},
   "outputs": [
    {
     "name": "stdout",
     "output_type": "stream",
     "text": [
      "Top most frequent senders: \n",
      "internalcommunications@lamoda.ru: 361 messages\n",
      "ekaterina.borovik@lamoda.ru: 96 messages\n",
      "viktoriya.barhatova@lamoda.ru: 93 messages\n",
      "ekaterina.volozhina@lamoda.ru: 92 messages\n",
      "info@calendar.yandex.ru: 76 messages\n"
     ]
    },
    {
     "data": {
      "text/plain": [
       "('BYE', [b'IMAP4rev1 Server logging out'])"
      ]
     },
     "execution_count": 34,
     "metadata": {},
     "output_type": "execute_result"
    }
   ],
   "source": [
    "# Data to connect\n",
    "IMAP_SERVER = 'imap.yandex.ru'    # imap.mail.ru for mail\n",
    "EMAIL_ACCOUNT = 'dmitry.konshin@lamoda.ru'\n",
    "PASSWORD = 'solsvcfuyqxmqigb'\n",
    "\n",
    "# Connection to imap server\n",
    "mail = imaplib.IMAP4_SSL(IMAP_SERVER)\n",
    "\n",
    "# log in\n",
    "mail.login(EMAIL_ACCOUNT, PASSWORD)\n",
    "\n",
    "# select inbox folder\n",
    "mail.select('inbox')\n",
    "\n",
    "# get all messages\n",
    "status, response = mail.search(None, 'UNSEEN')\n",
    "if status == 'OK':\n",
    "    email_ids = response[0].split()\n",
    "\n",
    "    # Create Counter for counting numbers of messages from each sender\n",
    "    sender_counter = Counter()\n",
    "\n",
    "    # get messages by ids\n",
    "    for email_id in email_ids:\n",
    "        status, msg_data = mail.fetch(email_id, '(BODY[HEADER.FIELDS (FROM)])')\n",
    "        if status == 'OK':\n",
    "        # decode headers\n",
    "            for response_part in msg_data:\n",
    "                if isinstance(response_part, tuple):\n",
    "                    msg = email.message_from_bytes(response_part[1])\n",
    "\n",
    "                    from_ = msg.get('From')\n",
    "                    email_address = re.search(r'<(.+?)>', from_)\n",
    "                    if email_address:\n",
    "                        from_ = email_address.group(1)\n",
    "\n",
    "                    # add seneder to Counter\n",
    "                    sender_counter[from_] += 1\n",
    "\n",
    "    top_senders = sender_counter.most_common(5)\n",
    "    print('Top most frequent senders: ')\n",
    "    for sender, counter in top_senders:\n",
    "        print(f'{sender}: {counter} messages')\n",
    "\n",
    "mail.logout()\n",
    "            "
   ]
  },
  {
   "cell_type": "markdown",
   "id": "eed788db-2565-4fc7-896b-0f051a809b29",
   "metadata": {},
   "source": [
    "## Get subjects with 'CALLSHEET' in subject and with a date between 2024-10-01 and 2024-12-01"
   ]
  },
  {
   "cell_type": "code",
   "execution_count": 11,
   "id": "36d883d3-5c82-4e9c-94b8-6a0cab02b0bb",
   "metadata": {},
   "outputs": [
    {
     "name": "stdout",
     "output_type": "stream",
     "text": [
      "Subject contains word SHEET: Re: CALL SHEET 19/11 LAMODA СММ ПРЕМ НОЯБ\n",
      "Subject contains word SHEET: CALL SHEET 19/11 LAMODA СММ ПРЕМ НОЯБ\n",
      "Subject contains word SHEET: CALL SHEET 14/11 СММ ВИДЕО Б НОЯБ\n",
      "Subject contains word SHEET: Re: CALL SHEET 13/11 LAMODA СММ М НОЯБ\n",
      "Subject contains word SHEET: Re: CALL SHEET 13/11 LAMODA СММ М НОЯБ\n",
      "Subject contains word SHEET: CALL SHEET 13/11 LAMODA СММ М НОЯБ \n",
      "Subject contains word SHEET: CALL SHEET 11/11 СММ ВИДЕО НОЯБ \n",
      "Subject contains word SHEET: Re: CALL SHEET 07/11 Lamoda СММ + ОБТР Ж НОЯБ\n",
      "Subject contains word SHEET: CALL SHEET 07/11 Lamoda СММ + ОБТР Ж НОЯБ\n",
      "Subject contains word SHEET: Re: CALL SHEET  30/10 Lamoda СММ ВИДЕО Б ОКТ\n",
      "Subject contains word SHEET: CALL SHEET  30/10 Lamoda СММ ВИДЕО Б ОКТ\n",
      "Subject contains word SHEET: Re: LAMODA CALLSHEET 15/10 СММ ПРЕМ ОКТ\n",
      "Subject contains word SHEET: LAMODA CALLSHEET 15/10 СММ ПРЕМ ОКТ\n",
      "Subject contains word SHEET: CALL SHEET Lamoda 09/10 СММ ВИДЕО ОКТ\n",
      "Subject contains word SHEET: Re: LAMODA CALLSHEET 07/10 СММ М ОКТ\n",
      "Subject contains word SHEET: LAMODA CALLSHEET 07/10 СММ М ОКТ\n",
      "Subject contains word SHEET: Re: CALL SHEET 03/10 LAMODA СММ + ОБТР Ж ОКТ\n",
      "Subject contains word SHEET: CALL SHEET 03/10 LAMODA СММ + ОБТР Ж ОКТ\n"
     ]
    },
    {
     "data": {
      "text/plain": [
       "('BYE', [b'IMAP4rev1 Server logging out'])"
      ]
     },
     "execution_count": 11,
     "metadata": {},
     "output_type": "execute_result"
    }
   ],
   "source": [
    "IMAP_SERVER = 'imap.yandex.ru'\n",
    "EMAIL_ACCOUNT = 'dmitry.konshin@lamoda.ru'\n",
    "PASSWORD = 'solsvcfuyqxmqigb'\n",
    "\n",
    "SEARCH_WORD = 'SHEET'\n",
    "\n",
    "mail = imaplib.IMAP4_SSL(IMAP_SERVER)\n",
    "mail.login(EMAIL_ACCOUNT, PASSWORD)\n",
    "\n",
    "mail.select('inbox')\n",
    "\n",
    "date_start = datetime.strptime('2024-10-01', '%Y-%m-%d').strftime('%d-%b-%Y')  # 01-Oct-2024\n",
    "date_end = datetime.strptime('2024-12-01', '%Y-%m-%d').strftime('%d-%b-%Y')   # 01-Dec-2024\n",
    "\n",
    "status, response = mail.search(None, f'(SINCE \"{date_start}\" BEFORE \"{date_end}\")')\n",
    "if status == 'OK':\n",
    "    email_ids = response[0].split()\n",
    "\n",
    "    for email_id in email_ids[::-1]:\n",
    "        status, msg_data = mail.fetch(email_id, '(BODY[HEADER.FIELDS (SUBJECT)])')\n",
    "        if status == 'OK':\n",
    "            for response_part in msg_data:\n",
    "                if isinstance(response_part, tuple):\n",
    "                    msg = email.message_from_bytes(response_part[1]).get('Subject')\n",
    "                    if msg:\n",
    "                        subject, encoding = decode_header(msg)[0]\n",
    "                        \n",
    "                    # if subject is encoded in base64 or other\n",
    "                        if isinstance(subject, bytes):\n",
    "                            subject = subject.decode(encoding or 'utf-8')\n",
    "                        date = re.search(r'(\\d{2}/\\d{2})', subject)\n",
    "                        # if date:\n",
    "                        #     date = datetime.strptime(date[1], \"%d/%m\").date().replace(year = 2025)\n",
    "                        if subject and 'SHEET' in subject and 'СММ' in subject:\n",
    "                            print(f'Subject contains word {SEARCH_WORD}: {subject}')\n",
    "\n",
    "mail.logout()   "
   ]
  },
  {
   "cell_type": "code",
   "execution_count": 13,
   "id": "69ff9aad-14d7-4e0c-9af1-8894d7ec172a",
   "metadata": {},
   "outputs": [
    {
     "data": {
      "text/plain": [
       "('BYE', [b'IMAP4rev1 Server logging out'])"
      ]
     },
     "execution_count": 13,
     "metadata": {},
     "output_type": "execute_result"
    }
   ],
   "source": [
    "# Get list of search data\n",
    "\n",
    "IMAP_SERVER = 'imap.yandex.ru'\n",
    "EMAIL_ACCOUNT = 'dmitry.konshin@lamoda.ru'\n",
    "PASSWORD = 'solsvcfuyqxmqigb'\n",
    "\n",
    "SEARCH_WORD = 'SHEET'\n",
    "SEARCH_LIST = []\n",
    "\n",
    "mail = imaplib.IMAP4_SSL(IMAP_SERVER)\n",
    "mail.login(EMAIL_ACCOUNT, PASSWORD)\n",
    "\n",
    "mail.select('inbox')\n",
    "\n",
    "date_start = datetime.strptime('2024-10-01', '%Y-%m-%d').strftime('%d-%b-%Y')  # 01-Oct-2024\n",
    "date_end = datetime.strptime('2024-12-01', '%Y-%m-%d').strftime('%d-%b-%Y')   # 01-Dec-2024\n",
    "\n",
    "status, response = mail.search(None, f'(SINCE \"{date_start}\" BEFORE \"{date_end}\")')\n",
    "if status == 'OK':\n",
    "    email_ids = response[0].split()\n",
    "\n",
    "    for email_id in email_ids[::-1]:\n",
    "        status, msg_data = mail.fetch(email_id, '(BODY[HEADER.FIELDS (SUBJECT)])')\n",
    "        if status == 'OK':\n",
    "            for response_part in msg_data:\n",
    "                if isinstance(response_part, tuple):\n",
    "                    msg = email.message_from_bytes(response_part[1]).get('Subject')\n",
    "                    if msg:\n",
    "                        subject, encoding = decode_header(msg)[0]\n",
    "                        \n",
    "                    # if subject is encoded in base64 or other\n",
    "                        if isinstance(subject, bytes):\n",
    "                            subject = subject.decode(encoding or 'utf-8')\n",
    "                        if subject and 'SHEET' in subject and 'СММ' in subject:\n",
    "                            SEARCH_LIST.append(f'Subject contains word {SEARCH_WORD}: {subject}')\n",
    "\n",
    "mail.logout()   "
   ]
  },
  {
   "cell_type": "markdown",
   "id": "c40a1beb-2429-4fec-925e-14b55e7ea462",
   "metadata": {},
   "source": [
    "## Let's send data from one email to another"
   ]
  },
  {
   "cell_type": "code",
   "execution_count": 2,
   "id": "ed46cb68-875b-4e0e-a391-860f4ac8230c",
   "metadata": {},
   "outputs": [],
   "source": [
    "import imaplib\n",
    "import email\n",
    "from email.header import decode_header\n",
    "import smtplib\n",
    "from email.mime.multipart import MIMEMultipart\n",
    "from email.mime.text import MIMEText"
   ]
  },
  {
   "cell_type": "code",
   "execution_count": 15,
   "id": "5168c062-c7fe-4682-83ac-c81847dabe10",
   "metadata": {},
   "outputs": [
    {
     "name": "stdout",
     "output_type": "stream",
     "text": [
      "Message sended successful\n"
     ]
    }
   ],
   "source": [
    "IMAP_SERVER = 'imap.yandex.ru'\n",
    "EMAIL_ACCOUNT = 'dmitry.konshin@lamoda.ru'\n",
    "PASSWORD = 'solsvcfuyqxmqigb'\n",
    "SMTP_SERVER = 'smtp.yandex.ru'\n",
    "SMTP_PORT = 587\n",
    "\n",
    "# Create message object\n",
    "msg = MIMEMultipart()\n",
    "msg['FROM'] = EMAIL_ACCOUNT\n",
    "msg['TO'] = 'konsin1988@gmail.com'\n",
    "msg['Subject'] = 'Messages with SMM content'\n",
    "\n",
    "# Body \n",
    "body = '\\n'.join(SEARCH_LIST)\n",
    "msg.attach(MIMEText(body, 'plain'))\n",
    "\n",
    "# Connect to smtp server \n",
    "server = smtplib.SMTP(SMTP_SERVER, SMTP_PORT)\n",
    "server.starttls()\n",
    "server.login(EMAIL_ACCOUNT, PASSWORD)\n",
    "\n",
    "# Send message\n",
    "server.sendmail(EMAIL_ACCOUNT, 'konsin1988@gmail.com', msg.as_string())\n",
    "\n",
    "# Quit server\n",
    "server.quit()\n",
    "print('Message sended successful')"
   ]
  },
  {
   "cell_type": "markdown",
   "id": "8c0ab513-2e31-4f54-a970-f59b0420c991",
   "metadata": {},
   "source": [
    "## Let's make emails sent from certain addresses unread"
   ]
  },
  {
   "cell_type": "code",
   "execution_count": 4,
   "id": "5629b172-74bd-45cd-be13-6e4d4721db54",
   "metadata": {},
   "outputs": [
    {
     "name": "stdout",
     "output_type": "stream",
     "text": [
      "Email 2991 marked as unread\n",
      "Email 2990 marked as unread\n",
      "Email 2989 marked as unread\n",
      "Email 2987 marked as unread\n",
      "Email 2984 marked as unread\n",
      "Email 2983 marked as unread\n",
      "Email 2982 marked as unread\n",
      "Email 2973 marked as unread\n",
      "Email 2970 marked as unread\n",
      "Email 2969 marked as unread\n",
      "Email 2968 marked as unread\n",
      "Email 2962 marked as unread\n",
      "Email 2961 marked as unread\n",
      "Email 2960 marked as unread\n",
      "Email 2956 marked as unread\n",
      "Email 2954 marked as unread\n",
      "Email 2953 marked as unread\n",
      "Email 2952 marked as unread\n",
      "Email 2951 marked as unread\n",
      "Email 2946 marked as unread\n",
      "Email 2945 marked as unread\n",
      "Email 2944 marked as unread\n"
     ]
    },
    {
     "data": {
      "text/plain": [
       "('BYE', [b'IMAP4rev1 Server logging out'])"
      ]
     },
     "execution_count": 4,
     "metadata": {},
     "output_type": "execute_result"
    }
   ],
   "source": [
    "IMAP_SERVER = 'imap.yandex.ru'\n",
    "EMAIL_ACCOUNT = 'dmitry.konshin@lamoda.ru'\n",
    "PASSWORD = 'solsvcfuyqxmqigb'\n",
    "DATE_START = datetime.strptime('2025-02-01', '%Y-%m-%d').strftime('%d-%b-%Y')  # 01-Oct-2024\n",
    "DATE_END = datetime.strptime('2025-02-12', '%Y-%m-%d').strftime('%d-%b-%Y') \n",
    "\n",
    "mail = imaplib.IMAP4_SSL(IMAP_SERVER)\n",
    "mail.login(EMAIL_ACCOUNT, PASSWORD)\n",
    "\n",
    "mail.select('inbox')\n",
    "\n",
    "status, response = mail.search(None, f'SINCE \"{DATE_START}\" BEFORE \"{DATE_END}\"')\n",
    "if status == 'OK':\n",
    "    email_ids = response[0].split()\n",
    "    for email_id in email_ids[::-1]:\n",
    "        status, msg_data = mail.fetch(email_id, '(BODY[HEADER.FIELDS (FROM)])')\n",
    "        if status == 'OK':\n",
    "            for response_part in msg_data:\n",
    "                if isinstance(response_part, tuple):\n",
    "                    msg = email.message_from_bytes(response_part[1])\n",
    "                    from_ = msg.get('From')\n",
    "\n",
    "                    email_address = re.search(r'<(.+?)>', from_)\n",
    "                    if email_address:\n",
    "                        from_ = email_address[1]\n",
    "\n",
    "                    # delete flag SEEN from messages with 'internalcommunications' in email_address\n",
    "                    if from_ and ('internalcommunications' in from_ or 'calendar' in from_):\n",
    "                        mail.store(email_id, '-FLAGS', '\\\\SEEN')\n",
    "                        print(f'Email {email_id.decode()} marked as unread')\n",
    "    \n",
    "\n",
    "mail.logout()"
   ]
  },
  {
   "cell_type": "markdown",
   "id": "61bb5957-eb78-47c3-87fc-c62f0668661d",
   "metadata": {},
   "source": [
    "## Remove emails from a specific sender"
   ]
  },
  {
   "cell_type": "code",
   "execution_count": 5,
   "id": "3263dc09-a058-4f84-9223-0b39fc5dd5a4",
   "metadata": {},
   "outputs": [],
   "source": [
    "import imaplib\n",
    "import email\n",
    "from email.header import decode_header\n",
    "from datetime import datetime"
   ]
  },
  {
   "cell_type": "code",
   "execution_count": 12,
   "id": "b044efbb-b6d3-47b1-a45c-b0b703ed8185",
   "metadata": {},
   "outputs": [
    {
     "name": "stdout",
     "output_type": "stream",
     "text": [
      "Email 2848 marked as deleted\n",
      "Email 2877 marked as deleted\n",
      "Email 2886 marked as deleted\n",
      "Email 2898 marked as deleted\n",
      "Email 2924 marked as deleted\n",
      "Email 2960 marked as deleted\n",
      "Email 2980 marked as deleted\n",
      "Email 2982 marked as deleted\n",
      "Email 2993 marked as deleted\n"
     ]
    },
    {
     "data": {
      "text/plain": [
       "('BYE', [b'IMAP4rev1 Server logging out'])"
      ]
     },
     "execution_count": 12,
     "metadata": {},
     "output_type": "execute_result"
    }
   ],
   "source": [
    "IMAP_SERVER = 'imap.yandex.ru'\n",
    "EMAIL_ACCOUNT = 'dmitry.konshin@lamoda.ru'\n",
    "PASSWORD = 'solsvcfuyqxmqigb'\n",
    "DATE_START = datetime.strptime('2025-01-01', '%Y-%m-%d').strftime('%d-%b-%Y')\n",
    "DATE_END = datetime.strptime('2025-02-14', '%Y-%m-%d').strftime('%d-%b-%Y')\n",
    "SENDER_TO_REMOVE = 'Denis Varankin'\n",
    "\n",
    "mail = imaplib.IMAP4_SSL(IMAP_SERVER)\n",
    "mail.login(EMAIL_ACCOUNT, PASSWORD)\n",
    "mail.select('inbox')\n",
    "\n",
    "status, response = mail.search(None, f'(SINCE \"{DATE_START}\" BEFORE \"{DATE_END}\")')\n",
    "if status == 'OK':\n",
    "    email_ids = response[0].split()\n",
    "\n",
    "    for email_id in email_ids:\n",
    "        status, msg_data = mail.fetch(email_id, '(BODY[HEADER.FIELDS (FROM)])')\n",
    "        if status == 'OK':\n",
    "            for response_part in msg_data:\n",
    "                if isinstance(response_part, tuple):\n",
    "                    msg = email.message_from_bytes(response_part[1])\n",
    "\n",
    "                    from_ = msg.get('From')\n",
    "                    from_ = decode_header(from_)[0][0]\n",
    "                    if isinstance(from_, bytes):\n",
    "                        from_ = from_.decode()\n",
    "                    if from_ and SENDER_TO_REMOVE in from_:\n",
    "                        mail.store(email_id, '+FLAGS', '\\\\Deleted')\n",
    "                        print(f'Email {email_id.decode()} marked as deleted')\n",
    "\n",
    "    mail.expunge()\n",
    "mail.logout()"
   ]
  },
  {
   "cell_type": "markdown",
   "id": "935cdeea-2a5d-45b1-8b16-b1ccac2d8d32",
   "metadata": {},
   "source": [
    "## Open the file received by mail and upload it to clickhouse"
   ]
  },
  {
   "cell_type": "code",
   "execution_count": 15,
   "id": "66f0f285-61e6-4151-b8b4-265397bff764",
   "metadata": {},
   "outputs": [],
   "source": [
    "import pandas as pd\n",
    "import imaplib\n",
    "import email\n",
    "from email.header import decode_header\n",
    "import smtplib\n",
    "from email.mime.multipart import MIMEMultipart\n",
    "from email.mime.text import MIMEText\n",
    "from email.mime.base import MIMEBase\n",
    "from email import encoders"
   ]
  },
  {
   "cell_type": "code",
   "execution_count": 16,
   "id": "ebfb22b5-7d62-4b5d-aaea-d1bbe949ea14",
   "metadata": {},
   "outputs": [],
   "source": [
    "# imap \n",
    "IMAP_SERVER = 'imap.yandex.ru'\n",
    "EMAIL_ACCOUNT = 'konsin1988@yandex.ru'\n",
    "PASSWORD = 'vqmobuumbfxufahi'\n",
    "SMTP_SERVER = 'smtp.yandex.ru'\n",
    "SMTP_PORT = 587\n",
    "TO_EMAIL = 'konsin1988@yandex.ru'"
   ]
  },
  {
   "cell_type": "code",
   "execution_count": 17,
   "id": "01694b34-4cfa-4a88-9348-cdc780cf3569",
   "metadata": {},
   "outputs": [
    {
     "name": "stdout",
     "output_type": "stream",
     "text": [
      "Message with data_20240714721i33.xml sended successful\n"
     ]
    }
   ],
   "source": [
    "# create message\n",
    "msg = MIMEMultipart()\n",
    "msg['From'] = EMAIL_ACCOUNT\n",
    "msg['To'] = TO_EMAIL\n",
    "msg['Subject'] = 'data_20240714721i33'\n",
    "\n",
    "body = 'Attached is a data file. Have a good day!'\n",
    "msg.attach(MIMEText(body, 'plain'))\n",
    "\n",
    "# attach file\n",
    "filename = 'data_20240714721i33.xml'\n",
    "with open(filename, 'rb') as attachment:\n",
    "    part = MIMEBase('application', 'octet-stream')\n",
    "    part.set_payload(attachment.read())\n",
    "    encoders.encode_base64(part)\n",
    "    part.add_header(\n",
    "        'Content-Disposition',\n",
    "        f'attachment; filename={filename}'\n",
    "    )\n",
    "    msg.attach(part)\n",
    "\n",
    "# Send message\n",
    "server = smtplib.SMTP(SMTP_SERVER, SMTP_PORT)\n",
    "server.starttls()\n",
    "server.login(EMAIL_ACCOUNT, PASSWORD)\n",
    "server.send_message(msg)\n",
    "server.quit()\n",
    "\n",
    "print(f'Message with {filename} sended successful')"
   ]
  },
  {
   "cell_type": "markdown",
   "id": "937e7f01-21d0-43ed-9c74-8429e89a414d",
   "metadata": {},
   "source": [
    "## Get sender, subject, date and time from message with attachment. Loading attached file."
   ]
  },
  {
   "cell_type": "code",
   "execution_count": 18,
   "id": "a939c42a-7c95-4fa1-bb5e-2d6ced7eaf7f",
   "metadata": {},
   "outputs": [],
   "source": [
    "import imaplib\n",
    "import email\n",
    "from email.header import decode_header"
   ]
  },
  {
   "cell_type": "code",
   "execution_count": 21,
   "id": "a80017b0-9e9e-4cd5-bd4e-68423cc78df4",
   "metadata": {},
   "outputs": [
    {
     "name": "stdout",
     "output_type": "stream",
     "text": [
      "Date: Sat, 15 Feb 2025 10:18:56 +0300\n",
      "Sender: konsin1988@yandex.ru\n",
      "Subject: data_20240714721i33\n",
      "Attachment save to data_20240714721i33.xml\n"
     ]
    },
    {
     "data": {
      "text/plain": [
       "('BYE', [b'IMAP4rev1 Server logging out'])"
      ]
     },
     "execution_count": 21,
     "metadata": {},
     "output_type": "execute_result"
    }
   ],
   "source": [
    "IMAP_SERVER = 'imap.yandex.ru'\n",
    "EMAIL_ACCOUNT = 'konsin1988@yandex.ru'\n",
    "PASSWORD = 'vqmobuumbfxufahi'\n",
    "SEARCH_INFO = 'data_20240714721i33'\n",
    "\n",
    "mail = imaplib.IMAP4_SSL(IMAP_SERVER)\n",
    "mail.login(EMAIL_ACCOUNT, PASSWORD)\n",
    "mail.select('inbox')\n",
    "\n",
    "status, response = mail.search(None, 'UNSEEN')\n",
    "if status == 'OK':\n",
    "    for email_id in response[0].split():\n",
    "        status, msg_data = mail.fetch(email_id, '(RFC822)')\n",
    "        if status == 'OK':\n",
    "            for response_part in msg_data:\n",
    "                if isinstance(response_part, tuple):\n",
    "                    msg = email.message_from_bytes(response_part[1])\n",
    "\n",
    "                    date = msg.get('Date')\n",
    "                    subject = msg.get('Subject')\n",
    "                    sender = msg.get('From')\n",
    "\n",
    "                    if subject:\n",
    "                        subject_decoded, encoding = decode_header(subject)[0]\n",
    "                        if isinstance(subject_decoded, bytes):\n",
    "                            subject_decoded = subject_decoded.decode(encoding or 'utf-8')\n",
    "\n",
    "                        if SEARCH_INFO in subject_decoded.lower():\n",
    "                            print(f'Date: {date}')\n",
    "                            print(f'Sender: {sender}')\n",
    "                            print(f'Subject: {subject_decoded}')\n",
    "\n",
    "                            # check attaches\n",
    "                            for part in msg.walk():\n",
    "                                if part.get_content_disposition() == 'attachment':\n",
    "                                    filename = part.get_filename()\n",
    "                                    # save file\n",
    "                                    if filename:\n",
    "                                        with open(filename, 'wb') as file:\n",
    "                                            file.write(part.get_payload(decode = True))\n",
    "                                        print(f'Attachment save to {filename}')\n",
    "\n",
    "mail.logout()"
   ]
  },
  {
   "cell_type": "markdown",
   "id": "185e7b79-be31-43f5-a57d-02aba04eb363",
   "metadata": {},
   "source": [
    "## Loading data from attached email file to clickhouse"
   ]
  },
  {
   "cell_type": "code",
   "execution_count": 33,
   "id": "84a3c1f0-8287-4193-8b9f-0979ec753a55",
   "metadata": {},
   "outputs": [],
   "source": [
    "import pandas as pd\n",
    "import clickhouse_connect\n",
    "import imaplib\n",
    "import email\n",
    "from email.header import decode_header\n",
    "import io"
   ]
  },
  {
   "cell_type": "code",
   "execution_count": 84,
   "id": "4f3e24c2-c1f6-48d5-8326-67823e73e36d",
   "metadata": {},
   "outputs": [],
   "source": [
    "# mail\n",
    "IMAP_SERVER = 'imap.yandex.ru'\n",
    "EMAIL_ACCOUNT = 'konsin1988@yandex.ru'\n",
    "EMAIL_PASS = 'vqmobuumbfxufahi'\n",
    "\n",
    "# file\n",
    "DATA_FILE = 'data_'\n",
    "\n",
    "#clickhouse\n",
    "CLICKHOUSE_USER = 'konsin1988'\n",
    "CLICKHOUSE_PASS = 'konsin1988konsin1988'\n",
    "CLICKHOUSE_HOST = 'localhost'\n",
    "CLICKHOUSE_PORT = 8123\n",
    "CLICKHOUSE_DB = 'mail_data'\n",
    "CLICKHOUSE_TABLE = 'loans'"
   ]
  },
  {
   "cell_type": "code",
   "execution_count": 3,
   "id": "9905c4a4-52df-4d84-b5d5-ccd710efcd43",
   "metadata": {},
   "outputs": [],
   "source": [
    "client = clickhouse_connect.get_client(host=CLICKHOUSE_HOST, port=CLICKHOUSE_PORT, username=CLICKHOUSE_USER, password=CLICKHOUSE_PASS)"
   ]
  },
  {
   "cell_type": "code",
   "execution_count": 6,
   "id": "101848f8-c335-4602-b147-bfd3c6e5de6a",
   "metadata": {},
   "outputs": [
    {
     "data": {
      "text/plain": [
       "<clickhouse_connect.driver.summary.QuerySummary at 0x77d8feba3bf0>"
      ]
     },
     "execution_count": 6,
     "metadata": {},
     "output_type": "execute_result"
    }
   ],
   "source": [
    "# Create role admin IF NOT EXISTS\n",
    "query = r'''\n",
    "    CREATE ROLE IF NOT EXISTS admin\n",
    "'''\n",
    "client.command(query)"
   ]
  },
  {
   "cell_type": "code",
   "execution_count": 7,
   "id": "adf1b084-6bec-49f4-988c-c46527443994",
   "metadata": {},
   "outputs": [
    {
     "data": {
      "text/plain": [
       "<clickhouse_connect.driver.summary.QuerySummary at 0x77d8febec6b0>"
      ]
     },
     "execution_count": 7,
     "metadata": {},
     "output_type": "execute_result"
    }
   ],
   "source": [
    "# Grant to admin full access \n",
    "query = r'''\n",
    "    GRANT ALL ON *.* TO admin WITH GRANT OPTION\n",
    "'''\n",
    "client.command(query)"
   ]
  },
  {
   "cell_type": "code",
   "execution_count": 5,
   "id": "48d0f502-df46-4935-915b-eeba18973be9",
   "metadata": {},
   "outputs": [
    {
     "data": {
      "text/plain": [
       "<clickhouse_connect.driver.summary.QuerySummary at 0x77d8f2b72840>"
      ]
     },
     "execution_count": 5,
     "metadata": {},
     "output_type": "execute_result"
    }
   ],
   "source": [
    "query = r'''\n",
    "    CREATE DATABASE IF NOT EXISTS mail_data;\n",
    "'''\n",
    "client.command(query)"
   ]
  },
  {
   "cell_type": "code",
   "execution_count": 88,
   "id": "b0b14225-6936-45bc-8126-f2ba6447f691",
   "metadata": {},
   "outputs": [
    {
     "data": {
      "text/plain": [
       "<clickhouse_connect.driver.summary.QuerySummary at 0x7364ef77c230>"
      ]
     },
     "execution_count": 88,
     "metadata": {},
     "output_type": "execute_result"
    }
   ],
   "source": [
    "query = r'''\n",
    "    DROP TABLE IF EXISTS mail_data.loans\n",
    "'''\n",
    "client.command(query)\n",
    "\n",
    "query = r'''\n",
    "    CREATE TABLE IF NOT EXISTS mail_data.loans(\n",
    "        age Int64,\n",
    "        sex Nullable(String),\n",
    "        job Nullable(Int64),\n",
    "        housing Nullable(String),\n",
    "        saving_accounts Nullable(String),\n",
    "        checking_account Nullable(String),\n",
    "        credit_amount Int64,\n",
    "        duration Int64,\n",
    "        purpose Nullable(String),\n",
    "        default Int64,\n",
    "        contract_dt DateTime('UTC'),\n",
    "        client_id Int64\n",
    "    ) ENGINE MergeTree PARTITION BY toYYYYMM(contract_dt) ORDER BY contract_dt SETTINGS index_granularity = 256;\n",
    "'''\n",
    "client.command(query)"
   ]
  },
  {
   "cell_type": "code",
   "execution_count": 90,
   "id": "59ac4fee-81f2-4cc2-a6bb-a6cb5b2b58de",
   "metadata": {},
   "outputs": [
    {
     "data": {
      "text/html": [
       "<div>\n",
       "<style scoped>\n",
       "    .dataframe tbody tr th:only-of-type {\n",
       "        vertical-align: middle;\n",
       "    }\n",
       "\n",
       "    .dataframe tbody tr th {\n",
       "        vertical-align: top;\n",
       "    }\n",
       "\n",
       "    .dataframe thead th {\n",
       "        text-align: right;\n",
       "    }\n",
       "</style>\n",
       "<table border=\"1\" class=\"dataframe\">\n",
       "  <thead>\n",
       "    <tr style=\"text-align: right;\">\n",
       "      <th></th>\n",
       "    </tr>\n",
       "  </thead>\n",
       "  <tbody>\n",
       "  </tbody>\n",
       "</table>\n",
       "</div>"
      ],
      "text/plain": [
       "Empty DataFrame\n",
       "Columns: []\n",
       "Index: []"
      ]
     },
     "execution_count": 90,
     "metadata": {},
     "output_type": "execute_result"
    }
   ],
   "source": [
    "query = r'''\n",
    "    SELECT *\n",
    "    FROM mail_data.loans\n",
    "    LIMIT 5\n",
    "'''\n",
    "pd.DataFrame(client.query(query).named_results())"
   ]
  },
  {
   "cell_type": "code",
   "execution_count": 91,
   "id": "c5bcfabc-0ed9-484e-9002-1e65f2e33084",
   "metadata": {},
   "outputs": [
    {
     "name": "stdout",
     "output_type": "stream",
     "text": [
      "Email 4 marked as unread\n"
     ]
    },
    {
     "data": {
      "text/plain": [
       "('BYE', [b'IMAP4rev1 Server logging out'])"
      ]
     },
     "execution_count": 91,
     "metadata": {},
     "output_type": "execute_result"
    }
   ],
   "source": [
    "# make mail with attached data unread\n",
    "mail = imaplib.IMAP4_SSL(IMAP_SERVER)\n",
    "mail.login(EMAIL_ACCOUNT, EMAIL_PASS)\n",
    "\n",
    "mail.select('inbox')\n",
    "\n",
    "status, response = mail.search(None, 'SEEN')\n",
    "if status == 'OK':\n",
    "    email_ids = response[0].split()\n",
    "    for email_id in email_ids[::-1]:\n",
    "        status, msg_data = mail.fetch(email_id, '(RFC822)')\n",
    "        if status == 'OK':\n",
    "            for response_part in msg_data:\n",
    "                if isinstance(response_part, tuple):\n",
    "                    msg = email.message_from_bytes(response_part[1])\n",
    "                    subject = msg.get('Subject')\n",
    "                    \n",
    "                    if subject:\n",
    "                        subject_decoded, encoding = decode_header(subject)[0]\n",
    "                        if isinstance(subject_decoded, bytes):\n",
    "                            subject_decoded = subject_decoded.decode(encoding or 'utf-8')\n",
    "                    else:\n",
    "                        subject_decoded = ''\n",
    "\n",
    "                    # delete flag SEEN from messages with 'internalcommunications' in email_address\n",
    "                    if SEARCH_INFO in subject.lower():\n",
    "                        mail.store(email_id, '-FLAGS', '\\\\SEEN')\n",
    "                        print(f'Email {email_id.decode()} marked as unread')\n",
    "    \n",
    "\n",
    "mail.logout()"
   ]
  },
  {
   "cell_type": "code",
   "execution_count": 92,
   "id": "7da7f731-9a8d-4808-ae63-2e4efdcdb117",
   "metadata": {},
   "outputs": [
    {
     "name": "stdout",
     "output_type": "stream",
     "text": [
      "The file attached to the email id_4 was recorded in the database\n"
     ]
    },
    {
     "data": {
      "text/plain": [
       "('BYE', [b'IMAP4rev1 Server logging out'])"
      ]
     },
     "execution_count": 92,
     "metadata": {},
     "output_type": "execute_result"
    }
   ],
   "source": [
    "# get file from email and insert xml data to clickhouse\n",
    "mail = imaplib.IMAP4_SSL(IMAP_SERVER)\n",
    "mail.login(EMAIL_ACCOUNT, EMAIL_PASS)\n",
    "\n",
    "mail.select('inbox')\n",
    "\n",
    "content = None\n",
    "status, response = mail.search(None, 'UNSEEN')\n",
    "if status == 'OK':\n",
    "    for email_id in response[0].split():\n",
    "        status, msg_data = mail.fetch(email_id, '(RFC822)')\n",
    "        if status == 'OK':\n",
    "            for response_part in msg_data:\n",
    "                if isinstance(response_part, tuple):\n",
    "                    msg = email.message_from_bytes(response_part[1])\n",
    "\n",
    "                    date = msg.get('Date')\n",
    "                    subject = msg.get('Subject')\n",
    "\n",
    "                    if subject:\n",
    "                        subject_decoded, encoding = decode_header(subject)[0]\n",
    "                        if isinstance(subject_decoded, bytes):\n",
    "                            subject_decoded = subject_decoded.decode(encoding or 'utf-8')\n",
    "                    else:\n",
    "                        subject_decoded = ''\n",
    "\n",
    "                    for part in msg.walk():\n",
    "                        if part.get_content_disposition() == 'attachment':\n",
    "                            attachment_name = part.get_filename() or ''\n",
    "                            # print(part.get_content_type())\n",
    "                            if DATA_FILE in attachment_name and part.get_content_type() == 'application/octet-stream':\n",
    "                                content = part.get_payload(decode = True).decode('utf-8')\n",
    "                                print(f'The file attached to the email id_{email_id.decode()} was recorded in the database')\n",
    "    \n",
    "    if content:\n",
    "        client.insert_df('mail_data.loans', pd.read_xml(io.StringIO(content), dtype={\n",
    "            'contract_dt':'datetime64[ns]'    \n",
    "        }\n",
    "        ))\n",
    "        \n",
    "\n",
    "    mail.expunge()\n",
    "mail.logout()"
   ]
  },
  {
   "cell_type": "code",
   "execution_count": 95,
   "id": "3f6fb35a-ea1b-404b-bd8c-df390b81d5f3",
   "metadata": {},
   "outputs": [
    {
     "data": {
      "text/html": [
       "<div>\n",
       "<style scoped>\n",
       "    .dataframe tbody tr th:only-of-type {\n",
       "        vertical-align: middle;\n",
       "    }\n",
       "\n",
       "    .dataframe tbody tr th {\n",
       "        vertical-align: top;\n",
       "    }\n",
       "\n",
       "    .dataframe thead th {\n",
       "        text-align: right;\n",
       "    }\n",
       "</style>\n",
       "<table border=\"1\" class=\"dataframe\">\n",
       "  <thead>\n",
       "    <tr style=\"text-align: right;\">\n",
       "      <th></th>\n",
       "      <th>Number of rows</th>\n",
       "    </tr>\n",
       "  </thead>\n",
       "  <tbody>\n",
       "    <tr>\n",
       "      <th>0</th>\n",
       "      <td>1000</td>\n",
       "    </tr>\n",
       "  </tbody>\n",
       "</table>\n",
       "</div>"
      ],
      "text/plain": [
       "   Number of rows\n",
       "0            1000"
      ]
     },
     "execution_count": 95,
     "metadata": {},
     "output_type": "execute_result"
    }
   ],
   "source": [
    "query = r'''\n",
    "    SELECT COUNT(*) AS `Number of rows`\n",
    "    FROM mail_data.loans\n",
    "'''\n",
    "pd.DataFrame(client.query(query).named_results())"
   ]
  },
  {
   "cell_type": "code",
   "execution_count": null,
   "id": "b2810daa-07cb-42cd-bc48-9465ce67d787",
   "metadata": {},
   "outputs": [],
   "source": []
  }
 ],
 "metadata": {
  "kernelspec": {
   "display_name": "Python 3 (ipykernel)",
   "language": "python",
   "name": "python3"
  },
  "language_info": {
   "codemirror_mode": {
    "name": "ipython",
    "version": 3
   },
   "file_extension": ".py",
   "mimetype": "text/x-python",
   "name": "python",
   "nbconvert_exporter": "python",
   "pygments_lexer": "ipython3",
   "version": "3.12.3"
  }
 },
 "nbformat": 4,
 "nbformat_minor": 5
}
